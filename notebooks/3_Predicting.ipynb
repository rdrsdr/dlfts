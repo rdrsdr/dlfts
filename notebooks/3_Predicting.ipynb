{
  "cells": [
    {
      "cell_type": "code",
      "execution_count": null,
      "metadata": {
        "id": "FkqsCJ-3rj2f"
      },
      "outputs": [],
      "source": [
        "from neuralforecast import NeuralForecast\n",
        "from ray.tune.search.hyperopt import HyperOptSearch\n",
        "from neuralforecast.losses.pytorch import MAE\n",
        "from ray import tune\n",
        "import ray\n",
        "\n",
        "# import neuralforecast.auto\n",
        "from neuralforecast.auto import AutoNHITS, AutoRNN, AutoLSTM, AutoGRU, AutoTCN, AutoDeepAR, AutoDilatedRNN, AutoBiTCN\n",
        "from neuralforecast.auto import AutoMLP, AutoNBEATS, AutoNBEATSx, AutoDLinear, AutoNLinear, AutoTiDE, AutoDeepNPTS\n",
        "from neuralforecast.auto import AutoTFT, AutoVanillaTransformer, AutoInformer, AutoAutoformer, AutoFEDformer\n",
        "from neuralforecast.auto import AutoPatchTST, AutoiTransformer, AutoTimesNet\n",
        "\n",
        "import torch\n",
        "import pandas as pd\n",
        "import numpy as np\n",
        "import yfinance as yf\n",
        "\n",
        "import logging\n",
        "\n",
        "logging.getLogger('pytorch_lightning').setLevel(logging.ERROR)\n",
        "ray.init(log_to_driver=False)"
      ]
    },
    {
      "cell_type": "code",
      "execution_count": null,
      "metadata": {
        "id": "k36Zs22WXUOB"
      },
      "outputs": [],
      "source": [
        "# dataset = 'm6dataset-daily.csv'\n",
        "dataset = 'm6dataset-hourly.csv'\n",
        "\n",
        "m6_df = pd.read_csv(dataset)\n",
        "m6_df.head(10)"
      ]
    },
    {
      "cell_type": "code",
      "execution_count": null,
      "metadata": {
        "id": "ySwFyVdkAOyM"
      },
      "outputs": [],
      "source": [
        "date_column_name = m6_df.columns[0]\n",
        "date_format = '%Y-%m-%d' if date_column_name.lower() == 'date' else '%Y-%m-%d %H:%M:%S'\n",
        "\n",
        "date_column_name, date_format"
      ]
    },
    {
      "cell_type": "code",
      "execution_count": null,
      "metadata": {
        "id": "9t_MBbWyRyUS"
      },
      "outputs": [],
      "source": [
        "# Converter a coluna para datetime removendo o fuso horário\n",
        "m6_df[date_column_name] = pd.to_datetime(m6_df[date_column_name]).dt.tz_convert(None)\n",
        "\n",
        "m6_df.head(10)"
      ]
    },
    {
      "cell_type": "code",
      "execution_count": null,
      "metadata": {
        "id": "2YHhQhQIoIGd"
      },
      "outputs": [],
      "source": [
        "split_date = pd.to_datetime('2024-08-26')\n",
        "#split_date = pd.to_datetime('2025-01-01')\n",
        "\n",
        "# Find the first row where the date is equal or greater than split_date\n",
        "def get_split_date_index(df, split_date):\n",
        "  for i in range(len(df)):\n",
        "    if df.iloc[i, 0] >= split_date:\n",
        "      return i\n",
        "\n",
        "split_idx = get_split_date_index(m6_df, split_date)\n",
        "split_idx, m6_df.iloc[split_idx, 0]"
      ]
    },
    {
      "cell_type": "code",
      "execution_count": null,
      "metadata": {
        "id": "3ZYMjrrNulLL"
      },
      "outputs": [],
      "source": [
        "# m6_df.iloc[:split_idx, :]"
      ]
    },
    {
      "cell_type": "code",
      "execution_count": null,
      "metadata": {
        "id": "IHcoJ7nvbxFW"
      },
      "outputs": [],
      "source": [
        "# prompt: create a method for plotting df using an interactive line graph, one line for columns, starting from column 2, column 1 is the index, ignore column 0. the graph must show only the legend and value of the line where the mouse hovers over.\n",
        "import plotly.express as px\n",
        "\n",
        "def plot_df(df):\n",
        "  df = df.set_index(df.columns[0])\n",
        "  fig = px.line(df, x=df.index, y=df.columns[2:], hover_data={\"variable\":False})\n",
        "  fig.update_traces(mode='lines', hovertemplate=None)\n",
        "  # fig.update_layout(hovermode=\"x unified\")\n",
        "  fig.update_layout(\n",
        "      title='M6 Dataset',\n",
        "      xaxis_title='Days',\n",
        "      yaxis_title='Adj. Values',\n",
        "      hovermode='closest',  # Ensures that only the data point under the cursor is displayed\n",
        "      showlegend=True       # Display legend\n",
        "  )\n",
        "  fig.show()"
      ]
    },
    {
      "cell_type": "code",
      "execution_count": null,
      "metadata": {
        "id": "-EpBwe7TkDHU"
      },
      "outputs": [],
      "source": [
        "# plot_df(m6_df)"
      ]
    },
    {
      "cell_type": "markdown",
      "metadata": {
        "id": "vn0mwQpzdd9v"
      },
      "source": [
        "##Nixtla"
      ]
    },
    {
      "cell_type": "code",
      "execution_count": null,
      "metadata": {
        "id": "5SPa-Yiar-8t"
      },
      "outputs": [],
      "source": [
        "import warnings\n",
        "\n",
        "warnings.filterwarnings('ignore')\n",
        "\n",
        "#torch.set_float32_matmul_precision('medium' | 'high' | 'highest')\n",
        "torch.set_float32_matmul_precision('highest')"
      ]
    },
    {
      "cell_type": "code",
      "execution_count": null,
      "metadata": {
        "id": "i4TNMwYHQRAX"
      },
      "outputs": [],
      "source": [
        "# loading pre-trained model\n",
        "folder = './models/'\n",
        "\n",
        "MODEL_NAMES = [\n",
        "    'lstm', # ......... 0\n",
        "    'gru', # .......... 1\n",
        "    'mlp', # .......... 2\n",
        "    'dlinear', # ...... 3\n",
        "    'nlinear', # ...... 4\n",
        "    'informer', # ..... 5\n",
        "    'autoformer', # ... 6\n",
        "    'fedformer', # .... 7\n",
        "    'bitcn', # ........ 8\n",
        "    'rnn', # .......... 9\n",
        "]"
      ]
    },
    {
      "cell_type": "code",
      "execution_count": null,
      "metadata": {
        "id": "tp3QSHmcxiL1"
      },
      "outputs": [],
      "source": [
        "# convert yfinance format to nixtla's\n",
        "# def convert_nixtla(df):\n",
        "#   ndf = pd.DataFrame(columns=['unique_id', 'ds', 'y'])\n",
        "\n",
        "#   for col in df.columns[1:]:\n",
        "#     temp = df[[date_column_name, col]].copy()\n",
        "#     temp['unique_id'] = col\n",
        "#     temp.rename(columns={date_column_name:'ds', col: 'y'}, inplace=True)\n",
        "#     ndf = pd.concat([ndf, temp], ignore_index=True)\n",
        "#   ndf['ds']=pd.to_datetime(ndf['ds'])\n",
        "\n",
        "#   return ndf"
      ]
    },
    {
      "cell_type": "code",
      "execution_count": null,
      "metadata": {
        "id": "c1CsYG59ai6l"
      },
      "outputs": [],
      "source": [
        "# decomposes a pandas yfinance dataframe in numpy arrays so they can be manipulated more efficiently\n",
        "# than directly on the dataframe for producing nixtla's bizzare [unique_df, ds, y] dataframe\n",
        "# def np_decompose(df, idx):\n",
        "#   ncols = np.array(df.columns[1:])\n",
        "#   ndates = df.iloc[:idx, 0].to_numpy()\n",
        "#   ndata = df.iloc[:idx, 1:].to_numpy().transpose()\n",
        "\n",
        "#   return ncols, ndates, ndata"
      ]
    },
    {
      "cell_type": "code",
      "execution_count": null,
      "metadata": {
        "id": "fn2w_8Cyaz9J"
      },
      "outputs": [],
      "source": [
        "# convert yfinance format to nixtla's bizzarre dataframe format\n",
        "# def gen_nixtlas_bizzarre_dataframe(dec_df):\n",
        "#   ncols, ndates, ndata = dec_df\n",
        "#   rows, cols = ndata.shape\n",
        "\n",
        "#   unique_id = np.repeat(ncols, cols)\n",
        "#   ds = np.tile(ndates, rows)\n",
        "#   y = ndata.reshape(-1)\n",
        "\n",
        "#   return pd.DataFrame({'unique_id': unique_id, 'ds': ds, 'y': y})"
      ]
    },
    {
      "cell_type": "code",
      "execution_count": null,
      "metadata": {
        "id": "cmFZSUF3a02a"
      },
      "outputs": [],
      "source": [
        "# pandas-numpy version (slower, memory-greedier)\n",
        "# def convert_nixtla(df, idx):\n",
        "#   return gen_nixtlas_bizzarre_dataframe(np_decompose(df, idx))"
      ]
    },
    {
      "cell_type": "code",
      "source": [
        "# pure pandas version (faster, more memory-friendly)\n",
        "def convert_nixtla(df, idx):\n",
        "  # Convert from wide to long format\n",
        "  df_long = df.iloc[:idx, :].melt(id_vars=[date_column_name], var_name=\"ticker\", value_name=\"price\")\n",
        "\n",
        "  # Rename columns for Nixtla’s long format and return\n",
        "  return df_long.rename(columns={date_column_name: \"ds\", \"ticker\": \"unique_id\", \"price\": \"y\"})"
      ],
      "metadata": {
        "id": "VsfqExfYA32c"
      },
      "execution_count": null,
      "outputs": []
    },
    {
      "cell_type": "code",
      "execution_count": null,
      "metadata": {
        "id": "ua6VsSvXnKvE"
      },
      "outputs": [],
      "source": [
        "from IPython.display import clear_output\n",
        "\n",
        "def forecast(nf, df, idx):#, train_df, test_df):\n",
        "  test_rows = len(df) - idx\n",
        "  counter = 0\n",
        "\n",
        "  # creating prediction dataframe\n",
        "  preds = df.iloc[split_idx:, :].copy() # alocating\n",
        "  preds.reset_index(drop=True, inplace=True) # reseting index\n",
        "  preds[:] = 0 # zeroing values\n",
        "\n",
        "  for i in range(test_rows):\n",
        "\n",
        "    # just printing % progress bar\n",
        "    div = (i * 1000) // test_rows\n",
        "    if (div > counter):\n",
        "        clear_output(wait=True)\n",
        "        print(f'{((i * 100) / test_rows):.1f}%')\n",
        "        counter = div\n",
        "\n",
        "    # forecasting\n",
        "    nixtla_df=convert_nixtla(df, split_idx + i)\n",
        "    pred = nf.predict(df=nixtla_df)\n",
        "\n",
        "    # transposing the prediction and adjusting columns\n",
        "    date_value = pd.to_datetime(pred['ds'].iloc[0]).strftime(date_format)\n",
        "    pred.set_index('unique_id', inplace=True)\n",
        "    predt = pred.drop(columns=['ds']).T\n",
        "\n",
        "    # copying forecasted row to preds dataframe\n",
        "    preds.iloc[i, 0] = date_value\n",
        "    preds.iloc[i, 1:] = predt.iloc[0, :]\n",
        "\n",
        "  preds.columns = [preds.columns[0]] + list(predt.columns)\n",
        "\n",
        "  return preds.reset_index(drop=True)\n",
        "\n",
        "# i = 0\n",
        "# print(f'########## Forecasting {MODEL_NAMES[i].upper()} ({i + 1}/{len(MODEL_NAMES)}) ##########')\n",
        "# nf = NeuralForecast.load(folder + MODEL_NAMES[i])\n",
        "# forecast(nf, m6_df, split_idx)"
      ]
    },
    {
      "cell_type": "code",
      "execution_count": null,
      "metadata": {
        "id": "uJVF1QruRyUU"
      },
      "outputs": [],
      "source": [
        "%%time\n",
        "#forecasts = []\n",
        "ffolder = './forecasts/'\n",
        "\n",
        "# copy of m6_df without the 'Real' column\n",
        "m6_df_no_real = m6_df.drop('Real', axis=1)\n",
        "\n",
        "#for i in range(len(MODEL_NAMES)):\n",
        "#  print()\n",
        "i = 0\n",
        "print(f'########## Forecasting {MODEL_NAMES[i].upper()} ({i + 1}/{len(MODEL_NAMES)}) ##########')\n",
        "nf = NeuralForecast.load(folder + MODEL_NAMES[i])\n",
        "#forecasts.append()\n",
        "fc = forecast(nf, m6_df_no_real, split_idx)#m6_train, m6_test)\n",
        "#fc.to_csv(ffolder + 'forecast-' + MODEL_NAMES[i] + '.csv', index=False)"
      ]
    },
    {
      "cell_type": "code",
      "execution_count": null,
      "metadata": {
        "id": "OZzeyteCRyUV"
      },
      "outputs": [],
      "source": [
        "import IPython\n",
        "IPython.display.Audio(\"file_example_MP3_1MG.mp3\", autoplay=True)"
      ]
    },
    {
      "cell_type": "code",
      "execution_count": null,
      "metadata": {
        "id": "7-35TgJKRyUV"
      },
      "outputs": [],
      "source": []
    }
  ],
  "metadata": {
    "colab": {
      "provenance": []
    },
    "kernelspec": {
      "display_name": "Python 3 (ipykernel)",
      "language": "python",
      "name": "python3"
    },
    "language_info": {
      "codemirror_mode": {
        "name": "ipython",
        "version": 3
      },
      "file_extension": ".py",
      "mimetype": "text/x-python",
      "name": "python",
      "nbconvert_exporter": "python",
      "pygments_lexer": "ipython3",
      "version": "3.11.8"
    }
  },
  "nbformat": 4,
  "nbformat_minor": 0
}