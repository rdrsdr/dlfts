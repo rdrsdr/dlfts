{
  "cells": [
    {
      "cell_type": "code",
      "execution_count": null,
      "metadata": {
        "id": "Z6zqOZIJm9X0"
      },
      "outputs": [],
      "source": [
        "from datetime import datetime\n",
        "\n",
        "notebook_start = datetime.now()"
      ]
    },
    {
      "cell_type": "code",
      "execution_count": null,
      "metadata": {
        "id": "p1rKZelPMLlM"
      },
      "outputs": [],
      "source": [
        "import os\n",
        "\n",
        "# this makes it so that the outputs of the predict methods have the id as a column\n",
        "# instead of as the index\n",
        "os.environ['NIXTLA_ID_AS_COL'] = '1'"
      ]
    },
    {
      "cell_type": "code",
      "execution_count": null,
      "metadata": {
        "id": "qJdRshVaMN73"
      },
      "outputs": [],
      "source": [
        "import pandas as pd\n",
        "\n",
        "folder = './datasets/247/daily/'\n",
        "#folder = './datasets/247/hourly/'\n",
        "\n",
        "#dataset = 'm6dataset.csv'\n",
        "dataset = folder + 'dataset.csv'\n",
        "\n",
        "df = pd.read_csv(dataset)\n",
        "df"
      ]
    },
    {
      "cell_type": "code",
      "source": [
        "date_column_name = df.columns[0]\n",
        "date_format = '%Y-%m-%d' if date_column_name.lower() == 'date' else '%Y-%m-%d %H:%M:%S'\n",
        "\n",
        "date_column_name, date_format"
      ],
      "metadata": {
        "id": "dT-q3kaidxFJ"
      },
      "execution_count": null,
      "outputs": []
    },
    {
      "cell_type": "code",
      "source": [
        "# Converter a coluna para datetime removendo o fuso horário\n",
        "if date_column_name.lower() == 'datetime':\n",
        "  df[date_column_name] = pd.to_datetime(df[date_column_name]).dt.tz_localize(None)\n",
        "else:\n",
        "  df[date_column_name] = pd.to_datetime(df[date_column_name], format=date_format)\n",
        "df"
      ],
      "metadata": {
        "id": "U-hkllvFd8Mu"
      },
      "execution_count": null,
      "outputs": []
    },
    {
      "cell_type": "code",
      "execution_count": null,
      "metadata": {
        "id": "_T0qwl9pQU_u"
      },
      "outputs": [],
      "source": [
        "# #split_date = '2024-08-26'\n",
        "# split_date = '2025-01-01'\n",
        "# #date_column_name = 'Date'\n",
        "# date_column_name = 'Datetime'\n",
        "\n",
        "# train = df[df[date_column_name] < split_date]\n",
        "# train"
      ]
    },
    {
      "cell_type": "code",
      "source": [
        "split_date = pd.to_datetime('2024-08-26')\n",
        "#split_date = pd.to_datetime('2025-01-01')\n",
        "\n",
        "# Find the first row where the date is equal or greater than split_date\n",
        "def get_split_date_index(df, split_date):\n",
        "  for i in range(len(df)):\n",
        "    if df.iloc[i, 0] >= split_date:\n",
        "      return i\n",
        "\n",
        "split_idx = get_split_date_index(df, split_date)\n",
        "split_idx, df.iloc[split_idx, 0]"
      ],
      "metadata": {
        "id": "FP9T3yu0hBJj"
      },
      "execution_count": null,
      "outputs": []
    },
    {
      "cell_type": "code",
      "source": [
        "train_df = df.iloc[:split_idx].drop('Real', axis=1)\n",
        "train_df"
      ],
      "metadata": {
        "id": "d7qENImZhy5b"
      },
      "execution_count": null,
      "outputs": []
    },
    {
      "cell_type": "code",
      "execution_count": null,
      "metadata": {
        "id": "XdRMgllmQU_u"
      },
      "outputs": [],
      "source": [
        "test_df = df.iloc[split_idx:].drop('Real', axis=1)\n",
        "test_df"
      ]
    },
    {
      "cell_type": "code",
      "execution_count": null,
      "metadata": {
        "id": "X34a6jZKQU_u"
      },
      "outputs": [],
      "source": [
        "# from sklearn.model_selection import train_test_split\n",
        "\n",
        "# train_df, test_df= train_test_split(df, test_size=0.2, shuffle=False)"
      ]
    },
    {
      "cell_type": "code",
      "execution_count": null,
      "metadata": {
        "id": "iGhFhVZPNcUH"
      },
      "outputs": [],
      "source": [
        "# train_df"
      ]
    },
    {
      "cell_type": "code",
      "execution_count": null,
      "metadata": {
        "id": "IBxq7XC4QU_v"
      },
      "outputs": [],
      "source": [
        "# test_df"
      ]
    },
    {
      "cell_type": "code",
      "execution_count": null,
      "metadata": {
        "id": "iRY0KieMNb6L"
      },
      "outputs": [],
      "source": [
        "# prompt: create a method for plotting df using an interactive line graph, one line for columns, starting from column 2, column 1 is the index, ignore column 0. the graph must show only the legend and value of the line where the mouse hovers over.\n",
        "import plotly.express as px\n",
        "\n",
        "def plot_df(df):\n",
        "  df = df.set_index(df.columns[0])\n",
        "  fig = px.line(df, x=df.index, y=df.columns[2:], hover_data={\"variable\":False})\n",
        "  fig.update_traces(mode='lines', hovertemplate=None)\n",
        "  # fig.update_layout(hovermode=\"x unified\")\n",
        "  fig.update_layout(\n",
        "      title='M6 Dataset',\n",
        "      xaxis_title='Days',\n",
        "      yaxis_title='Adj. Values',\n",
        "      hovermode='closest',  # Ensures that only the data point under the cursor is displayed\n",
        "      showlegend=True       # Display legend\n",
        "  )\n",
        "  fig.show()"
      ]
    },
    {
      "cell_type": "code",
      "execution_count": null,
      "metadata": {
        "id": "7jbLQqvqQU_v"
      },
      "outputs": [],
      "source": [
        "plot_df(df)"
      ]
    },
    {
      "cell_type": "markdown",
      "metadata": {
        "id": "ZzKJtWWqNrrf"
      },
      "source": [
        "# NIXTLA"
      ]
    },
    {
      "cell_type": "code",
      "execution_count": null,
      "metadata": {
        "id": "3UnzMOMkNbpB"
      },
      "outputs": [],
      "source": [
        "#pip install neuralforecast"
      ]
    },
    {
      "cell_type": "code",
      "execution_count": null,
      "metadata": {
        "id": "JYiTvkufhna9"
      },
      "outputs": [],
      "source": [
        "from neuralforecast import NeuralForecast\n",
        "from ray.tune.search.hyperopt import HyperOptSearch\n",
        "from neuralforecast.losses.pytorch import MAE\n",
        "from ray import tune\n",
        "import torch"
      ]
    },
    {
      "cell_type": "code",
      "execution_count": null,
      "metadata": {
        "id": "KKD9eczhlerV"
      },
      "outputs": [],
      "source": [
        "#torch.set_float32_matmul_precision('medium' | 'high' | 'highest')\n",
        "torch.set_float32_matmul_precision('highest')"
      ]
    },
    {
      "cell_type": "markdown",
      "metadata": {
        "id": "uCTDxR2urivY"
      },
      "source": [
        "## Auto Models"
      ]
    },
    {
      "cell_type": "code",
      "execution_count": null,
      "metadata": {
        "id": "X_tUcjr9Im7R"
      },
      "outputs": [],
      "source": [
        "import warnings\n",
        "warnings.filterwarnings('ignore')"
      ]
    },
    {
      "cell_type": "code",
      "execution_count": null,
      "metadata": {
        "id": "n6rGEYoFKmgr"
      },
      "outputs": [],
      "source": [
        "import neuralforecast.auto\n",
        "from neuralforecast.auto import AutoNHITS, AutoRNN, AutoLSTM, AutoGRU, AutoTCN, AutoDeepAR, AutoDilatedRNN, AutoBiTCN\n",
        "from neuralforecast.auto import AutoMLP, AutoNBEATS, AutoNBEATSx, AutoDLinear, AutoNLinear, AutoTiDE, AutoDeepNPTS\n",
        "from neuralforecast.auto import AutoTFT, AutoVanillaTransformer, AutoInformer, AutoAutoformer, AutoFEDformer\n",
        "from neuralforecast.auto import AutoPatchTST, AutoiTransformer, AutoTimesNet\n",
        "\n",
        "horizont = 1\n",
        "\n",
        "# --- CONFIGS ---\n",
        "\n",
        "# Extract the default hyperparameter settings\n",
        "\n",
        "#A. RNN-Based\n",
        "rnn_config = AutoRNN.get_default_config(h = horizont, backend=\"ray\")\n",
        "lstm_config = AutoLSTM.get_default_config(h = horizont, backend=\"ray\")\n",
        "gru_config = AutoGRU.get_default_config(h = horizont, backend=\"ray\")\n",
        "tcn_config = AutoTCN.get_default_config(h = horizont, backend=\"ray\")\n",
        "deep_ar_config = AutoDeepAR.get_default_config(h = horizont, backend=\"ray\")\n",
        "dilated_rnn_config = AutoDilatedRNN.get_default_config(h = horizont, backend=\"ray\")\n",
        "bitcn_config = AutoBiTCN.get_default_config(h = horizont, backend=\"ray\")\n",
        "\n",
        "#B. MLP-Based\n",
        "mlp_config = AutoMLP.get_default_config(h = horizont, backend=\"ray\")\n",
        "nbeats_config = AutoNBEATS.get_default_config(h = horizont, backend=\"ray\")\n",
        "nbeatsx_config = AutoNBEATSx.get_default_config(h = horizont, backend=\"ray\")\n",
        "nhits_config = AutoNHITS.get_default_config(h = horizont, backend=\"ray\")\n",
        "dlinear_config = AutoDLinear.get_default_config(h = horizont, backend=\"ray\")\n",
        "nlinear_config = AutoNLinear.get_default_config(h = horizont, backend=\"ray\")\n",
        "tide_config = AutoTiDE.get_default_config(h = horizont, backend=\"ray\")\n",
        "deep_npts_config = AutoDeepNPTS.get_default_config(h = horizont, backend=\"ray\")\n",
        "\n",
        "#C. Transformer models\n",
        "tft_config = AutoTFT.get_default_config(h = horizont, backend=\"ray\")\n",
        "vanilla_config = AutoVanillaTransformer.get_default_config(h = horizont, backend=\"ray\")\n",
        "informer_config = AutoInformer.get_default_config(h = horizont, backend=\"ray\")\n",
        "autoformer_config = AutoAutoformer.get_default_config(h = horizont, backend=\"ray\")\n",
        "fedformer_config = AutoFEDformer.get_default_config(h = horizont, backend=\"ray\")\n",
        "patch_tst_config = AutoPatchTST.get_default_config(h = horizont, backend=\"ray\")\n",
        "\n",
        "itransformer_config = AutoiTransformer.get_default_config(h = horizont, n_series=1, backend=\"ray\")\n",
        "\n",
        "#D. CNN Based\n",
        "timesnet_config = AutoTimesNet.get_default_config(h = horizont, backend=\"ray\")"
      ]
    },
    {
      "cell_type": "code",
      "execution_count": null,
      "metadata": {
        "id": "fn4nhUGQljuk"
      },
      "outputs": [],
      "source": [
        "# --- MODELS ---\n",
        "#A. RNN-Based\n",
        "rnn_model = AutoRNN(h=horizont, config=rnn_config)\n",
        "lstm_model = AutoLSTM(h=horizont, config=lstm_config)\n",
        "gru_model = AutoGRU(h=horizont, config=gru_config)\n",
        "tcn_model = AutoTCN(h=horizont, config=tcn_config)\n",
        "deep_ar_model = AutoDeepAR(h=horizont, config=deep_ar_config)\n",
        "dilated_rnn_model = AutoDilatedRNN(h=horizont, config=dilated_rnn_config)\n",
        "bitcn_model = AutoBiTCN(h=horizont, config=bitcn_config)\n",
        "\n",
        "#B. MLP-Based\n",
        "mlp_model = AutoMLP(h=horizont, config=mlp_config)\n",
        "nbeats_model = AutoNBEATS(h=horizont, config=nbeats_config)\n",
        "nbeatsx_model = AutoNBEATSx(h=horizont, config=nbeats_config)\n",
        "nhits_model = AutoNHITS(h=horizont, config=nhits_config)\n",
        "dlinear_model = AutoDLinear(h=horizont, config=dlinear_config)\n",
        "nlinear_model = AutoNLinear(h=horizont, config=nlinear_config)\n",
        "tide_model = AutoTiDE(h=horizont, config=tide_config)\n",
        "deep_npts_model = AutoDeepNPTS(h=horizont, config=deep_npts_config)\n",
        "\n",
        "#C. Transformer models\n",
        "tft_model = AutoTFT(h=horizont, config=tft_config)\n",
        "vanilla_model = AutoVanillaTransformer(h=horizont, config=vanilla_config)\n",
        "informer_model = AutoInformer(h=horizont, config=informer_config)\n",
        "autoformer_model = AutoAutoformer(h=horizont, config=autoformer_config)\n",
        "fedformer_model = AutoFEDformer(h=horizont, config=fedformer_config)\n",
        "patch_tst_model = AutoPatchTST(h=horizont, config=patch_tst_config)\n",
        "\n",
        "itransformer_model = AutoiTransformer(h=horizont, n_series=1, config=itransformer_config)\n",
        "\n",
        "#D. CNN Based\n",
        "timesnet_model = AutoTimesNet(h=horizont, config=timesnet_config)"
      ]
    },
    {
      "cell_type": "code",
      "execution_count": null,
      "metadata": {
        "id": "o4yBcy__Os5F"
      },
      "outputs": [],
      "source": [
        "# # older and slow\n",
        "# def convert_nixtla(df):\n",
        "#   ndf = pd.DataFrame(columns=['unique_id', 'ds', 'y'])\n",
        "\n",
        "#   for col in df.columns[1:]:\n",
        "#     temp = df[[date_column_name, col]].copy()\n",
        "#     temp['unique_id'] = col\n",
        "#     temp.rename(columns={date_column_name:'ds', col: 'y'}, inplace=True)\n",
        "#     ndf = pd.concat([ndf, temp], ignore_index=True)\n",
        "#   ndf['ds']=pd.to_datetime(ndf['ds'])\n",
        "\n",
        "#   return ndf"
      ]
    },
    {
      "cell_type": "code",
      "source": [
        "# pure pandas version (faster, more memory-friendly)\n",
        "def convert_nixtla(df):\n",
        "  # Convert from wide to long format\n",
        "  df_long = df.melt(id_vars=[date_column_name], var_name=\"ticker\", value_name=\"price\")\n",
        "\n",
        "  # Rename columns for Nixtla’s long format and return\n",
        "  return df_long.rename(columns={date_column_name: \"ds\", \"ticker\": \"unique_id\", \"price\": \"y\"})"
      ],
      "metadata": {
        "id": "ea3hCYuLlT_r"
      },
      "execution_count": null,
      "outputs": []
    },
    {
      "cell_type": "code",
      "execution_count": null,
      "metadata": {
        "id": "68skq1DXm9X3"
      },
      "outputs": [],
      "source": [
        "MODEL_NAMES = [\n",
        "  'LSTM',\n",
        "  'GRU',\n",
        "  'MLP',\n",
        "  'DLINEAR',\n",
        "  'NLINEAR',\n",
        "  'INFORMER',\n",
        "  'AUTOFORMER',\n",
        "  'FEDFORMER',\n",
        "  'BITCN',\n",
        "  'RNN',\n",
        "]\n",
        "\n",
        "MODELS = [\n",
        "  lstm_model, # ........ 0\n",
        "  gru_model, # ......... 1\n",
        "  mlp_model, # ......... 2\n",
        "  dlinear_model, # ..... 3\n",
        "  nlinear_model, # ..... 4\n",
        "  informer_model, # .... 5\n",
        "  autoformer_model, # .. 6\n",
        "  fedformer_model, # ... 7\n",
        "  bitcn_model, # ....... 8\n",
        "  rnn_model # .......... 9\n",
        "]"
      ]
    },
    {
      "cell_type": "code",
      "execution_count": null,
      "metadata": {
        "id": "JovrCqUtI3IX"
      },
      "outputs": [],
      "source": [
        "frequency = 'D' # 'B' business day frequency (https://pandas.pydata.org/pandas-docs/stable/user_guide/timeseries.html#offset-aliases)\n",
        "#frequency = 'h'\n",
        "\n",
        "models = [\n",
        "    #MODELS[0]\n",
        "    #lstm_model,  # ......... 1\n",
        "    #gru_model,  # .......... 2\n",
        "    #tcn_model,\n",
        "    #deep_ar_model,\n",
        "    #dilated_rnn_model,\n",
        "    #mlp_model,  # .......... 3\n",
        "    #nbeats_model,\n",
        "    #nbeatsx_model,\n",
        "    #nhits_model,\n",
        "    #dlinear_model,  # ...... 4\n",
        "    #nlinear_model,  # ...... 5\n",
        "    #tide_model,\n",
        "    #deep_npts_model,\n",
        "    #tft_model,\n",
        "    #vanilla_model,\n",
        "    #informer_model,  # ..... 6\n",
        "    #autoformer_model,  # ... 7\n",
        "    #fedformer_model,  # .... 8\n",
        "    #bitcn_model,  # ........ 9\n",
        "    #rnn_model,  # .......... 10\n",
        "    #patch_tst_model,\n",
        "    #itransformer_model,\n",
        "    #timesnet_model\n",
        "    ]\n"
      ]
    },
    {
      "cell_type": "code",
      "execution_count": null,
      "metadata": {
        "id": "B6odzr4xRuNZ"
      },
      "outputs": [],
      "source": [
        "%%time\n",
        "start_time = datetime.now()\n",
        "\n",
        "for i in range(len(MODELS)):\n",
        "    print()\n",
        "    print(f'---------------------------------')\n",
        "    print(f'--- Training {MODEL_NAMES[i]} ---')\n",
        "    print(f'---------------------------------')\n",
        "    print()\n",
        "\n",
        "    nf = NeuralForecast(\n",
        "          models= [ MODELS[i] ],\n",
        "          freq=frequency\n",
        "        )\n",
        "\n",
        "    ndf=convert_nixtla(train_df)\n",
        "    nf.fit(df=ndf)\n",
        "    nf.save(folder + 'models/' + MODEL_NAMES[i].lower())\n",
        "\n",
        "stop_time = datetime.now()\n",
        "elapsed_time = stop_time - start_time\n",
        "\n",
        "print(f\"Cell started at: {start_time}\")\n",
        "print(f\"Cell stopped at: {stop_time}\")\n",
        "print(f\"Elapsed time: {elapsed_time}\")"
      ]
    },
    {
      "cell_type": "code",
      "execution_count": null,
      "metadata": {
        "id": "7qykfIFbLV8K"
      },
      "outputs": [],
      "source": [
        "import IPython\n",
        "IPython.display.Audio(\"file_example_MP3_1MG.mp3\", autoplay=True)"
      ]
    }
  ],
  "metadata": {
    "colab": {
      "provenance": []
    },
    "kernelspec": {
      "display_name": "Python 3 (ipykernel)",
      "language": "python",
      "name": "python3"
    },
    "language_info": {
      "codemirror_mode": {
        "name": "ipython",
        "version": 3
      },
      "file_extension": ".py",
      "mimetype": "text/x-python",
      "name": "python",
      "nbconvert_exporter": "python",
      "pygments_lexer": "ipython3",
      "version": "3.11.8"
    }
  },
  "nbformat": 4,
  "nbformat_minor": 0
}