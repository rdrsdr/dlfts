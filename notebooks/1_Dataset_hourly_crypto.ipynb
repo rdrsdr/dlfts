{
  "cells": [
    {
      "cell_type": "markdown",
      "source": [
        "#downloading major crypto tickers"
      ],
      "metadata": {
        "id": "dK9jQZkjUYdm"
      }
    },
    {
      "cell_type": "code",
      "source": [
        "!pip install requests"
      ],
      "metadata": {
        "id": "nX2ggtHiXbsj"
      },
      "execution_count": null,
      "outputs": []
    },
    {
      "cell_type": "code",
      "source": [
        "# chatgpt: create a python list of the 100 major cryptocurrencies tickers please\n",
        "import requests\n",
        "\n",
        "def get_top_100_crypto_tickers():\n",
        "    url = 'https://api.coingecko.com/api/v3/coins/markets'\n",
        "    params = {\n",
        "        'vs_currency': 'usd',\n",
        "        'order': 'market_cap_desc',\n",
        "        'per_page': 100,\n",
        "        'page': 1,\n",
        "        'sparkline': 'false'\n",
        "    }\n",
        "\n",
        "    response = requests.get(url, params=params)\n",
        "    response.raise_for_status()  # Raises HTTPError for bad responses\n",
        "\n",
        "    data = response.json()\n",
        "    tickers = [coin['symbol'].upper() for coin in data]\n",
        "    return tickers\n",
        "\n",
        "# Example usage\n",
        "tickers = get_top_100_crypto_tickers()\n",
        "\n",
        "for i in range (len(tickers)):\n",
        "  tickers[i] += '-USD'\n",
        "print(tickers)\n",
        "\n",
        "# stable coins removed using chatgpt"
      ],
      "metadata": {
        "id": "XaRtY_RLXgql"
      },
      "execution_count": null,
      "outputs": []
    },
    {
      "cell_type": "markdown",
      "source": [
        "#Downloading data"
      ],
      "metadata": {
        "id": "-R4301KCk5m7"
      }
    },
    {
      "cell_type": "code",
      "execution_count": null,
      "metadata": {
        "id": "AeTR_UDouuLx"
      },
      "outputs": [],
      "source": [
        "import yfinance as yf\n",
        "import pandas as pd"
      ]
    },
    {
      "cell_type": "code",
      "source": [
        "tickers_crypto =  ['BTC-USD', 'ETH-USD', 'XRP-USD', 'BNB-USD', 'SOL-USD', 'DOGE-USD', 'ADA-USD', 'TRX-USD', 'STETH-USD', 'WBTC-USD',\n",
        "                   'LINK-USD', 'AVAX-USD', 'XLM-USD', 'LEO-USD', 'HBAR-USD', 'WSTETH-USD', 'BCH-USD', 'LTC-USD', 'DOT-USD', 'BSC-USD-USD',\n",
        "                   'BGB-USD', 'WETH-USD', 'XMR-USD', 'WBT-USD', 'WEETH-USD', 'CBBTC-USD', 'PEPE-USD', 'TAO-USD', 'NEAR-USD', 'OKB-USD',\n",
        "                   'ONDO-USD', 'GT-USD', 'ICP-USD', 'ETC-USD', 'AAVE-USD', 'KAS-USD', 'TKX-USD', 'CRO-USD', 'VET-USD', 'RENDER-USD',\n",
        "                   'ATOM-USD', 'ALGO-USD', 'LBTC-USD', 'FET-USD', 'ENA-USD', 'FTN-USD', 'FIL-USD', 'BONK-USD', 'JLP-USD', 'SOLVBTC-USD',\n",
        "                   'KCS-USD', 'OP-USD', 'MKR-USD', 'XDC-USD', 'BNSOL-USD', 'NEXO-USD', 'FLR-USD', 'QNT-USD', 'FARTCOIN-USD', 'SEI-USD',\n",
        "                   'WETH-USD', 'IP-USD', 'IMX-USD', 'EOS-USD', 'RSETH-USD', 'INJ-USD', 'GRT-USD', 'WBNB-USD', 'VIRTUAL-USD', 'CRV-USD',\n",
        "                   'RAY-USD', 'RETH-USD']"
      ],
      "metadata": {
        "id": "CMh0Rw_oUoWY"
      },
      "execution_count": null,
      "outputs": []
    },
    {
      "cell_type": "code",
      "source": [
        "folder = './datasets/crypto/hourly/'\n",
        "assets = tickers_crypto\n",
        "print(assets)"
      ],
      "metadata": {
        "id": "_JfjLNlvamio"
      },
      "execution_count": null,
      "outputs": []
    },
    {
      "cell_type": "code",
      "execution_count": null,
      "metadata": {
        "id": "utjSal9RomG7"
      },
      "outputs": [],
      "source": [
        "import time\n",
        "import random\n",
        "\n",
        "prd='max' # period of aquisition\n",
        "ntrv='1h' # interval of aquisition\n",
        "column = 'Close'\n",
        "\n",
        "# data = backup.copy()\n",
        "#backup = data.copy()\n",
        "\n",
        "print(f\"Downloading data for {assets[0]}\")\n",
        "data = yf.download(assets[0], period=prd, interval = ntrv)[column]\n",
        "\n",
        "# Loop through the remaining assets\n",
        "for t in range(1, len(assets)):  # Downloading only the second asset for demonstration\n",
        "    ticker = assets[t]\n",
        "    try:\n",
        "        print(f\"\\nDownloading data for {ticker} {t+1}/{len(assets)}\")\n",
        "        new_data = yf.download(ticker, period=prd, interval=ntrv)[column]\n",
        "\n",
        "        # if first or last row is nan try to download again 2 more times\n",
        "        cont = 0\n",
        "        while (pd.isna(new_data.iloc[0,0]) or pd.isna(new_data.iloc[-1,0])) and cont < 2:\n",
        "          print(f\"\\nDownloading data for {ticker} AGAIN {t+1}/{len(assets)}\")\n",
        "          wait_time = random.randint(1, 3)\n",
        "          print(f\"Waiting for {wait_time} seconds...\")\n",
        "          time.sleep(wait_time)\n",
        "          new_data = yf.download(ticker, period=prd, interval=ntrv)[column]\n",
        "          cont += 1\n",
        "\n",
        "        data = pd.concat([data, new_data], axis=1, join='outer')\n",
        "        data = data.rename(columns={column: ticker})\n",
        "        display(data)\n",
        "        wait_time = random.randint(1, 3)\n",
        "        print(f\"Waiting for {wait_time} seconds...\")\n",
        "        time.sleep(wait_time)\n",
        "    except Exception as e:\n",
        "        print(f\"Error downloading data for {ticker}: {e}\")\n",
        "        #break\n",
        "\n",
        "data"
      ]
    },
    {
      "cell_type": "code",
      "source": [
        "# prompt: drop df columns with all nan values\n",
        "\n",
        "# Identify columns where the first row is NaN\n",
        "columns_to_drop = data.columns[data.iloc[0].isna()]\n",
        "\n",
        "# Drop those columns\n",
        "df = data.drop(columns=columns_to_drop)\n",
        "\n",
        "df"
      ],
      "metadata": {
        "id": "Sv4lQAOUiKb3"
      },
      "execution_count": null,
      "outputs": []
    },
    {
      "cell_type": "code",
      "source": [
        "# prompt: add a column 'Real' in the first position of df\n",
        "df.insert(0, 'Real', True)\n",
        "df"
      ],
      "metadata": {
        "id": "OTv4R71xmzFr"
      },
      "execution_count": null,
      "outputs": []
    },
    {
      "cell_type": "code",
      "execution_count": null,
      "metadata": {
        "id": "SaigDGYPqvTZ"
      },
      "outputs": [],
      "source": [
        "# adding missing rows to ensure frequency is hourly\n",
        "df = df.asfreq('h')#.ffill()\n",
        "# df.reset_index(inplace=True)\n",
        "#df.rename(columns={'index': 'Datetime'}, inplace=True)\n",
        "df.index.name = 'Datetime'\n",
        "df"
      ]
    },
    {
      "cell_type": "code",
      "source": [
        "# prompt: set Values of Real column from df to False where it's not True\n",
        "df.loc[df['Real'] != True, 'Real'] = False\n",
        "df[df['Real'] != True]"
      ],
      "metadata": {
        "id": "QRqrkZrlgwNH"
      },
      "execution_count": null,
      "outputs": []
    },
    {
      "cell_type": "code",
      "source": [
        "# prompt: fill df with missing values except for 'Real' column\n",
        "\n",
        "# Fill missing values in all columns except 'Real'\n",
        "for col in df.columns:\n",
        "    if col != 'Real' and col != 'Datetime':\n",
        "        df[col] = df[col].fillna(method='ffill')\n",
        "df"
      ],
      "metadata": {
        "id": "JqnN0uiWm4f9"
      },
      "execution_count": null,
      "outputs": []
    },
    {
      "cell_type": "code",
      "source": [
        "# prompt: drop df columns with all nan values\n",
        "df.dropna(axis=1, inplace=True)\n",
        "df"
      ],
      "metadata": {
        "id": "qMGxLvztkfKi"
      },
      "execution_count": null,
      "outputs": []
    },
    {
      "cell_type": "code",
      "source": [
        "# prompt: drop the following columns tickers from df: [ USDT-USD,USDC-USD, SUI-USD, TON-USD, SHIB-USD, HYPE-USD, USDE-USD, PI-USD, APT-USD, UNI-USD, DAI-USD, TRUMP-USD, MNT-USD, POL-USD, TIA-USD, ARB-USD, WLD-USD, JUP-USD, STX-USD, USDC-USD ]\n",
        "\n",
        "tickers_to_drop = ['USDT-USD', 'USDC-USD', 'SUI-USD', 'TON-USD', 'SHIB-USD', 'HYPE-USD', 'USDE-USD', 'PI-USD', 'APT-USD', 'UNI-USD', 'DAI-USD', 'TRUMP-USD', 'MNT-USD', 'POL-USD', 'TIA-USD', 'ARB-USD', 'WLD-USD', 'JUP-USD', 'STX-USD', 'USDC-USD']\n",
        "\n",
        "# Check if the tickers exist in the DataFrame before dropping\n",
        "columns_to_drop = [ticker for ticker in tickers_to_drop if ticker in df.columns]\n",
        "\n",
        "df = df.drop(columns=columns_to_drop)\n"
      ],
      "metadata": {
        "id": "cUKg7m7p_J-U"
      },
      "execution_count": null,
      "outputs": []
    },
    {
      "cell_type": "code",
      "source": [
        "# prompt: plot all values of df from column 2 and beyond\n",
        "# investigate and exclude assets with strange behaviour (ex: constant value for long time, stable coins, etc.)\n",
        "\n",
        "import matplotlib.pyplot as plt\n",
        "\n",
        "# Assuming 'df' is already defined from the previous code\n",
        "\n",
        "for col in df.columns[1:]:  # Iterate through columns starting from the second one\n",
        "    plt.figure(figsize=(10, 6))  # Adjust figure size if needed\n",
        "    plt.plot(df[col])\n",
        "    plt.title(f'Plot of {col}')\n",
        "    plt.xlabel(df.columns[0]) # Assuming the first column is the date/time\n",
        "    plt.ylabel(col)\n",
        "    plt.grid(True)\n",
        "    plt.show()"
      ],
      "metadata": {
        "id": "1ajJqFIz89XC"
      },
      "execution_count": null,
      "outputs": []
    },
    {
      "cell_type": "code",
      "source": [
        "df"
      ],
      "metadata": {
        "id": "4RvGiqqK_jbI"
      },
      "execution_count": null,
      "outputs": []
    },
    {
      "cell_type": "code",
      "source": [
        "# prompt: drop df columns where last row value is lower than 1\n",
        "\n",
        "# Drop columns where the last row value is lower than 1\n",
        "df = df.loc[:, df.iloc[-1] >= 1]\n",
        "df"
      ],
      "metadata": {
        "id": "U68_j_05_-oN"
      },
      "execution_count": null,
      "outputs": []
    },
    {
      "cell_type": "code",
      "execution_count": null,
      "metadata": {
        "id": "qPis2urYldLb"
      },
      "outputs": [],
      "source": [
        "def save_df(df, path):\n",
        "    df2 = df.reset_index()\n",
        "    df2.to_csv(path, index=False)"
      ]
    },
    {
      "cell_type": "code",
      "execution_count": null,
      "metadata": {
        "id": "_CXY3q3LldLb"
      },
      "outputs": [],
      "source": [
        "save_df(df, 'dataset.csv')"
      ]
    },
    {
      "cell_type": "code",
      "execution_count": null,
      "metadata": {
        "id": "QAa7_3wSldLb"
      },
      "outputs": [],
      "source": [
        "pd.read_csv('dataset.csv')"
      ]
    },
    {
      "cell_type": "code",
      "execution_count": null,
      "metadata": {
        "id": "kBrFl3MgldLc"
      },
      "outputs": [],
      "source": []
    }
  ],
  "metadata": {
    "colab": {
      "provenance": []
    },
    "kernelspec": {
      "display_name": "Python 3 (ipykernel)",
      "language": "python",
      "name": "python3"
    },
    "language_info": {
      "codemirror_mode": {
        "name": "ipython",
        "version": 3
      },
      "file_extension": ".py",
      "mimetype": "text/x-python",
      "name": "python",
      "nbconvert_exporter": "python",
      "pygments_lexer": "ipython3",
      "version": "3.11.8"
    }
  },
  "nbformat": 4,
  "nbformat_minor": 0
}