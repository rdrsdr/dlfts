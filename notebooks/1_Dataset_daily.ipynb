{
  "cells": [
    {
      "cell_type": "markdown",
      "metadata": {
        "id": "K4_XSwtFl9i1"
      },
      "source": [
        "https://github.com/Mcompetitions/M6-methods/blob/main/Download%20historical%20data%20using%20Yahoo%20API.py"
      ]
    },
    {
      "cell_type": "code",
      "execution_count": null,
      "metadata": {
        "id": "1yh8VxT_ipp3"
      },
      "outputs": [],
      "source": [
        "import yfinance as yf\n",
        "import pandas as pd"
      ]
    },
    {
      "cell_type": "code",
      "source": [
        "#The M6 asset universe\n",
        "tickers_m6 = [\n",
        "  \"ABBV\",\"ACN\",\"AEP\",\"AIZ\",\"ALLE\",\"AMAT\",\"AMP\",\"AMZN\",\"AVB\",\"AVY\",\n",
        "  \"AXP\",\"BDX\",\"BF-B\",\"BMY\",\"BR\",\"CARR\",\"CDW\",\"CE\",\"CHTR\",\"CNC\",\n",
        "  \"CNP\",\"COP\",\"CTAS\",\"CZR\",\"DG\",\"DPZ\",#\"DRE\",\n",
        "  \"DXC\",\"META\",\"FTV\",\n",
        "  \"GOOG\",\"GPC\",\"HIG\",\"HST\",\"JPM\",\"KR\",\"OGN\",\"PG\",\"PPL\",\"PRU\",\n",
        "  \"PYPL\",#\"RE\",\n",
        "  \"ROL\",\"ROST\",\"UNH\",\"URI\",\"V\",\"VRSK\",#\"WRK\",\n",
        "  \"XOM\",\n",
        "  \"IVV\",\"IWM\",\"EWU\",\"EWG\",\"EWL\",\"EWQ\",\"IEUS\",\"EWJ\",\"EWT\",\"MCHI\",\n",
        "  \"INDA\",\"EWY\",\"EWA\",\"EWH\",\"EWZ\",\"EWC\",\"IEMG\",\"LQD\",\"HYG\",\"SHY\",\n",
        "  \"IEF\",\"TLT\",#\"SEGA.L\",\n",
        "  \"IEAA.L\",\"HIGH.L\",\"JPEA.L\",\"IAU\",\"SLV\",\"GSG\",\"REET\",\n",
        "  \"ICLN\",\"IXN\",\"IGF\",\"IUVL.L\",\"IUMO.L\",\"SPMV.L\",\"IEVL.L\",\"IEFM.L\",\"MVEU.L\",\"XLK\",\n",
        "  \"XLF\",\"XLV\",\"XLE\",\"XLY\",\"XLI\",\"XLC\",\"XLU\",\"XLP\",\"XLB\",\"VXX\"]"
      ],
      "metadata": {
        "id": "k13Ja5znZVQK"
      },
      "execution_count": null,
      "outputs": []
    },
    {
      "cell_type": "code",
      "source": [
        "tickers_24x7 = [\n",
        "    # Major Cryptocurrencies\n",
        "    \"BTC-USD\",  # Bitcoin / US Dollar\n",
        "    \"ETH-USD\",  # Ethereum / US Dollar\n",
        "    \"SOL-USD\",  # Solana / US Dollar\n",
        "    \"ADA-USD\",  # Cardano / US Dollar\n",
        "    \"XRP-USD\",  # XRP / US Dollar\n",
        "    \"DOGE-USD\",  # Dogecoin / US Dollar\n",
        "    \"DOT-USD\",  # Polkadot / US Dollar\n",
        "    #\"MATIC-USD\",  # Polygon / US Dollar\n",
        "    \"LTC-USD\",  # Litecoin / US Dollar\n",
        "    \"BCH-USD\",  # Bitcoin Cash / US Dollar\n",
        "    \"AVAX-USD\",  # Avalanche / US Dollar\n",
        "    #\"UNI-USD\",  # Uniswap / US Dollar\n",
        "    \"LINK-USD\",  # Chainlink / US Dollar\n",
        "    \"XLM-USD\",  # Stellar / US Dollar\n",
        "    \"ATOM-USD\",  # Cosmos / US Dollar\n",
        "    \"TRX-USD\",  # TRON / US Dollar\n",
        "    #\"ICP-USD\",  # Internet Computer / US Dollar\n",
        "    \"FIL-USD\",  # Filecoin / US Dollar\n",
        "    \"AAVE-USD\",  # Aave / US Dollar\n",
        "    \"ALGO-USD\",  # Algorand / US Dollar\n",
        "    #\"FTM-USD\",  # Fantom / US Dollar\n",
        "    \"HBAR-USD\",  # Hedera / US Dollar\n",
        "    \"NEAR-USD\",  # Near Protocol / US Dollar\n",
        "    \"VET-USD\",  # VeChain / US Dollar\n",
        "    #\"GRT-USD\",  # The Graph / US Dollar\n",
        "    \"SAND-USD\",  # The Sandbox / US Dollar\n",
        "    \"MANA-USD\",  # Decentraland / US Dollar\n",
        "    \"AXS-USD\",  # Axie Infinity / US Dollar\n",
        "    \"CHZ-USD\",  # Chiliz / US Dollar\n",
        "\n",
        "    # Crypto ETFs & Funds\n",
        "    #\"GBTC\",  # Grayscale Bitcoin Trust\n",
        "    #\"BITO\",  # ProShares Bitcoin Strategy ETF\n",
        "    #\"ETHE\",  # Grayscale Ethereum Trust\n",
        "    #\"BTCC.TO\",  # Purpose Bitcoin ETF (Toronto Stock Exchange)\n",
        "    #\"BTF\",  # Valkyrie Bitcoin Strategy ETF\n",
        "    #\"XBTF\",  # VanEck Bitcoin Strategy ETF\n",
        "\n",
        "    # Major Forex Pairs (24/5, but some brokers offer 24/7)\n",
        "    \"EURUSD=X\",  # Euro / US Dollar\n",
        "    \"USDJPY=X\",  # US Dollar / Japanese Yen\n",
        "    \"GBPUSD=X\",  # British Pound / US Dollar\n",
        "    \"USDCAD=X\",  # US Dollar / Canadian Dollar\n",
        "    \"AUDUSD=X\",  # Australian Dollar / US Dollar\n",
        "    \"USDCHF=X\",  # US Dollar / Swiss Franc\n",
        "    \"NZDUSD=X\",  # New Zealand Dollar / US Dollar\n",
        "    \"EURJPY=X\",  # Euro / Japanese Yen\n",
        "    \"GBPJPY=X\",  # British Pound / Japanese Yen\n",
        "    \"EURGBP=X\",  # Euro / British Pound\n",
        "    \"USDHKD=X\",  # US Dollar / Hong Kong Dollar\n",
        "    \"USDSGD=X\",  # US Dollar / Singapore Dollar\n",
        "    \"USDINR=X\",  # US Dollar / Indian Rupee\n",
        "#    \"USDCNH=X\",  # US Dollar / Chinese Yuan (Offshore)\n",
        "    \"USDTRY=X\",  # US Dollar / Turkish Lira\n",
        "    \"USDZAR=X\",  # US Dollar / South African Rand\n",
        "    \"USDMXN=X\",  # US Dollar / Mexican Peso\n",
        "    \"USDTHB=X\",  # US Dollar / Thai Baht\n",
        "    \"USDBRL=X\",  # US Dollar / Brazilian Real\n",
        "    \"USDCZK=X\",  # US Dollar / Czech Koruna\n",
        "    \"USDNOK=X\",  # US Dollar / Norwegian Krone\n",
        "\n",
        "    # Emerging Cryptos (Growing Popularity)\n",
        "    #\"PEPE-USD\",  # Pepe Coin\n",
        "    #\"SHIB-USD\",  # Shiba Inu\n",
        "    #\"FLOKI-USD\",  # Floki Inu\n",
        "    #\"STX-USD\",  # Stacks\n",
        "    #\"IMX-USD\",  # Immutable X\n",
        "    #\"INJ-USD\",  # Injective\n",
        "    #\"RNDR-USD\",  # Render Token\n",
        "    #\"ORDI-USD\",  # ORDI\n",
        "    #\"OP-USD\",  # Optimism\n",
        "    #\"ARB-USD\",  # Arbitrum\n",
        "    #\"DYDX-USD\",  # dYdX\n",
        "    #\"GALA-USD\",  # Gala Games\n",
        "\n",
        "    # Stablecoins (Pegged to Fiat, Still Trade 24/7)\n",
        "    #\"USDT-USD\",  # Tether\n",
        "    #\"USDC-USD\",  # USD Coin\n",
        "    #\"DAI-USD\",  # DAI\n",
        "    #\"BUSD-USD\",  # Binance USD\n",
        "    #\"TUSD-USD\",  # TrueUSD\n",
        "]"
      ],
      "metadata": {
        "id": "U8RbDk_UMNT8"
      },
      "execution_count": null,
      "outputs": []
    },
    {
      "cell_type": "code",
      "source": [
        "folder = './datasets/247/daily/'\n",
        "assets = tickers_24x7\n",
        "print(assets)"
      ],
      "metadata": {
        "id": "sizno7e3Yajr"
      },
      "execution_count": null,
      "outputs": []
    },
    {
      "cell_type": "code",
      "source": [
        "#Download historical data (select starting date)\n",
        "starting_date = \"2021-12-27\"\n",
        "#ending_date = \"2024-08-23\"\n",
        "\n",
        "#data = yf.download(assets, start=starting_date)#, end=ending_date)\n",
        "data = yf.download(assets, period=\"5y\")\n",
        "data"
      ],
      "metadata": {
        "id": "pk6ZUvEjMOG1"
      },
      "execution_count": null,
      "outputs": []
    },
    {
      "cell_type": "code",
      "execution_count": null,
      "metadata": {
        "id": "QhLAAHb_kLdO"
      },
      "outputs": [],
      "source": [
        "prices = data['Close']\n",
        "prices"
      ]
    },
    {
      "cell_type": "code",
      "execution_count": null,
      "metadata": {
        "id": "64cm-WxIp1cP"
      },
      "outputs": [],
      "source": [
        "df = prices.asfreq('D')#.ffill()\n",
        "df"
      ]
    },
    {
      "cell_type": "code",
      "source": [
        "# prompt: add a column 'Real' in the first position of df, if values of row are NaN, set it False, otherwise, set it True\n",
        "df.insert(0, 'Real', ~(df.isnull().sum(axis=1) == len(assets)))\n",
        "df"
      ],
      "metadata": {
        "id": "FHjSutppgYMW"
      },
      "execution_count": null,
      "outputs": []
    },
    {
      "cell_type": "code",
      "source": [
        "# prompt: fill df with missing values except for 'Real' column\n",
        "\n",
        "# Fill missing values in all columns except 'Real'\n",
        "for col in df.columns:\n",
        "    if col != 'Real':\n",
        "        df[col] = df[col].fillna(method='ffill')\n",
        "df"
      ],
      "metadata": {
        "id": "X-Z-WT5-jLAp"
      },
      "execution_count": null,
      "outputs": []
    },
    {
      "cell_type": "code",
      "execution_count": null,
      "metadata": {
        "id": "BzhOtfSFfDx4"
      },
      "outputs": [],
      "source": [
        "# prompt: create a copy of df with dates from 2022-01-01 and after it\n",
        "new_df = df[df.index >= '2022-01-01']\n",
        "new_df"
      ]
    },
    {
      "cell_type": "code",
      "source": [
        "# prompt: drop df columns with nan values\n",
        "df2 = new_df.dropna(axis=1)\n",
        "df2"
      ],
      "metadata": {
        "id": "jycVI_kAjbVj"
      },
      "execution_count": null,
      "outputs": []
    },
    {
      "cell_type": "code",
      "execution_count": null,
      "metadata": {
        "id": "nV8qIwCqfDx5"
      },
      "outputs": [],
      "source": [
        "def save_df(df, path):\n",
        "    df2 = df.reset_index()\n",
        "    df2.to_csv(path, index=False)"
      ]
    },
    {
      "cell_type": "code",
      "source": [
        "# prompt: plot all values of df from column 2 and beyond\n",
        "# investigate and exclude assets with strange behaviour (ex: constant value for long time, stable coins, etc.)\n",
        "\n",
        "import matplotlib.pyplot as plt\n",
        "\n",
        "# Assuming 'df' is already defined from the previous code\n",
        "\n",
        "for col in df.columns[2:]:  # Iterate through columns starting from the second one\n",
        "    plt.figure(figsize=(10, 6))  # Adjust figure size if needed\n",
        "    plt.plot(df[col])\n",
        "    plt.title(f'Plot of {col}')\n",
        "    plt.xlabel(df.columns[0]) # Assuming the first column is the date/time\n",
        "    plt.ylabel(col)\n",
        "    plt.grid(True)\n",
        "    plt.show()"
      ],
      "metadata": {
        "id": "4zQpfE388CrL"
      },
      "execution_count": null,
      "outputs": []
    },
    {
      "cell_type": "code",
      "execution_count": null,
      "metadata": {
        "id": "WcnWdmkNfDx5"
      },
      "outputs": [],
      "source": [
        "save_df(df2, folder + 'dataset.csv')"
      ]
    },
    {
      "cell_type": "code",
      "execution_count": null,
      "metadata": {
        "id": "3Ga1l3zufDx5"
      },
      "outputs": [],
      "source": [
        "pd.read_csv(folder + 'dataset.csv')"
      ]
    },
    {
      "cell_type": "code",
      "execution_count": null,
      "metadata": {
        "id": "6aDYeryrfDx5"
      },
      "outputs": [],
      "source": []
    }
  ],
  "metadata": {
    "colab": {
      "provenance": []
    },
    "kernelspec": {
      "display_name": "Python 3 (ipykernel)",
      "language": "python",
      "name": "python3"
    },
    "language_info": {
      "codemirror_mode": {
        "name": "ipython",
        "version": 3
      },
      "file_extension": ".py",
      "mimetype": "text/x-python",
      "name": "python",
      "nbconvert_exporter": "python",
      "pygments_lexer": "ipython3",
      "version": "3.11.8"
    }
  },
  "nbformat": 4,
  "nbformat_minor": 0
}